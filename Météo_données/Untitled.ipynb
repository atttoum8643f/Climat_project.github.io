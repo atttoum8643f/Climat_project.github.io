{
 "cells": [
  {
   "cell_type": "code",
   "execution_count": 1,
   "id": "7d437b7b",
   "metadata": {},
   "outputs": [
    {
     "name": "stdout",
     "output_type": "stream",
     "text": [
      "{'request': {'type': 'City', 'query': 'Montpellier, France', 'language': 'en', 'unit': 'm'}, 'location': {'name': 'Montpellier', 'country': 'France', 'region': 'Languedoc-Roussillon', 'lat': '43.600', 'lon': '3.883', 'timezone_id': 'Europe/Paris', 'localtime': '2023-10-20 12:01', 'localtime_epoch': 1697803260, 'utc_offset': '2.0'}, 'current': {'observation_time': '10:01 AM', 'temperature': 21, 'weather_code': 113, 'weather_icons': ['https://cdn.worldweatheronline.com/images/wsymbols01_png_64/wsymbol_0001_sunny.png'], 'weather_descriptions': ['Sunny'], 'wind_speed': 11, 'wind_degree': 200, 'wind_dir': 'SSW', 'pressure': 988, 'precip': 0, 'humidity': 64, 'cloudcover': 0, 'feelslike': 21, 'uv_index': 4, 'visibility': 10, 'is_day': 'yes'}}\n"
     ]
    }
   ],
   "source": [
    "import requests\n",
    "def get_weather(city):  \n",
    "    response = requests.get(f'http://api.weatherstack.com/current?access_key=c2591c1b872564a6299d9c0ed03475bd&query={city}')\n",
    "    return response.json() # Utilisez la fonction pour obtenir la météo pour une ville spécifique \n",
    "weather_data = get_weather('Montpellier')\n",
    "print(weather_data)"
   ]
  },
  {
   "cell_type": "code",
   "execution_count": null,
   "id": "823caf0a",
   "metadata": {},
   "outputs": [],
   "source": []
  }
 ],
 "metadata": {
  "kernelspec": {
   "display_name": "Python 3 (ipykernel)",
   "language": "python",
   "name": "python3"
  },
  "language_info": {
   "codemirror_mode": {
    "name": "ipython",
    "version": 3
   },
   "file_extension": ".py",
   "mimetype": "text/x-python",
   "name": "python",
   "nbconvert_exporter": "python",
   "pygments_lexer": "ipython3",
   "version": "3.11.4"
  }
 },
 "nbformat": 4,
 "nbformat_minor": 5
}
